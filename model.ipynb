{
  "cells": [
    {
      "cell_type": "raw",
      "metadata": {},
      "source": [
        "---\n",
        "title: \"Model\"\n",
        "format:\n",
        "  html:\n",
        "    code-fold: true\n",
        "---"
      ],
      "id": "c9b96284"
    },
    {
      "cell_type": "code",
      "metadata": {},
      "source": [
        "# Chapter 1 Dependencies\n",
        "from palmerpenguins import penguins\n",
        "from pandas import get_dummies\n",
        "import numpy as np\n",
        "from sklearn.linear_model import LinearRegression\n",
        "from sklearn import preprocessing\n",
        "\n",
        "# Chapter 2 Dependencies\n",
        "from vetiver import VetiverModel\n",
        "from pins import board_folder\n",
        "from pins import board_temp\n",
        "from vetiver import vetiver_pin_write\n",
        "from vetiver import VetiverAPI\n",
        "\n",
        "# Chapter 3 Dependencies\n",
        "import requests\n",
        "import duckdb\n",
        "from duckdb import connect"
      ],
      "id": "739ffdd3",
      "execution_count": null,
      "outputs": []
    },
    {
      "cell_type": "markdown",
      "metadata": {},
      "source": [
        "## Get Data\n"
      ],
      "id": "45dbeba3"
    },
    {
      "cell_type": "code",
      "metadata": {},
      "source": [
        "df = penguins.load_penguins().dropna()\n",
        "\n",
        "df.head(3)"
      ],
      "id": "cd6a28da",
      "execution_count": null,
      "outputs": []
    },
    {
      "cell_type": "markdown",
      "metadata": {},
      "source": [
        "## Define Model and Fit\n"
      ],
      "id": "c3311d99"
    },
    {
      "cell_type": "code",
      "metadata": {},
      "source": [
        "X = get_dummies(df[['bill_length_mm', 'species', 'sex']], drop_first = True)\n",
        "y = df['body_mass_g']\n",
        "\n",
        "model = LinearRegression().fit(X, y)"
      ],
      "id": "2ca7db3b",
      "execution_count": null,
      "outputs": []
    },
    {
      "cell_type": "markdown",
      "metadata": {},
      "source": [
        "## Get some information\n"
      ],
      "id": "7771a163"
    },
    {
      "cell_type": "code",
      "metadata": {},
      "source": [
        "print(f\"R^2 {model.score(X,y)}\")\n",
        "print(f\"Intercept {model.intercept_}\")\n",
        "print(f\"Columns {X.columns}\")\n",
        "print(f\"Coefficients {model.coef_}\")"
      ],
      "id": "edcaea85",
      "execution_count": null,
      "outputs": []
    },
    {
      "cell_type": "code",
      "metadata": {},
      "source": [
        "v = VetiverModel(model, model_name='penguin_model', prototype_data=X)"
      ],
      "id": "885149db",
      "execution_count": null,
      "outputs": []
    },
    {
      "cell_type": "code",
      "metadata": {},
      "source": [
        "b = board_folder('data/model', allow_pickle_read=True)\n",
        "\n",
        "# Create pin\n",
        "vetiver_pin_write(b, v, versioned=True)\n",
        "\n",
        "v = VetiverModel.from_pin(b, 'penguin_model')"
      ],
      "id": "55193e82",
      "execution_count": null,
      "outputs": []
    },
    {
      "cell_type": "code",
      "metadata": {},
      "source": [
        "# Then you can auto-generate a {fastAPI} from this model with\n",
        "app = VetiverAPI(v, check_prototype=True)\n",
        "\n",
        "# Prepare Docker File\n",
        "#from vetiver import prepare_docker\n",
        "#prepare_docker(b, \"penguin_model\")"
      ],
      "id": "596325c4",
      "execution_count": null,
      "outputs": []
    },
    {
      "cell_type": "code",
      "metadata": {},
      "source": [
        "# Run the FastAPI server\n",
        "#app.run(port=8080)"
      ],
      "id": "9ffb6a3c",
      "execution_count": null,
      "outputs": []
    },
    {
      "cell_type": "code",
      "metadata": {},
      "source": [
        "# Load the Data in Python\n",
        "\n",
        "#con = connect('my-db.duckdb')\n",
        "#df = penguins.load_penguins()\n",
        "#con.execute('CREATE TABLE penguins AS SELECT * FROM df')\n",
        "#con.close()"
      ],
      "id": "29cd832d",
      "execution_count": null,
      "outputs": []
    },
    {
      "cell_type": "code",
      "metadata": {},
      "source": [
        "# Use the Database\n",
        "\n",
        "#con = duckdb.connect('my-db.duckdb')\n",
        "#df = con.execute(\"SELECT * FROM penguins\").fetchdf().dropna()\n",
        "#con.close()"
      ],
      "id": "ff500eb7",
      "execution_count": null,
      "outputs": []
    },
    {
      "cell_type": "code",
      "metadata": {},
      "source": [
        "#req_data = {\n",
        "#  \"bill_length_mm\": 0,\n",
        "#  \"species_Chinstrap\": False,\n",
        "#  \"species_Gentoo\": False,\n",
        "#  \"sex_male\": False\n",
        "#}\n",
        "#req = requests.post('http://127.0.0.1:8080/predict', json = [req_data])\n",
        "#res = req.json().get('predict')[0]"
      ],
      "id": "9317eaca",
      "execution_count": null,
      "outputs": []
    }
  ],
  "metadata": {
    "kernelspec": {
      "name": "python3",
      "language": "python",
      "display_name": "Python 3 (ipykernel)"
    }
  },
  "nbformat": 4,
  "nbformat_minor": 5
}